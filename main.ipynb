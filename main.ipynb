{
 "cells": [
  {
   "cell_type": "code",
   "execution_count": 24,
   "metadata": {
    "tags": []
   },
   "outputs": [
    {
     "name": "stdout",
     "output_type": "stream",
     "text": [
      "Financial Analysis\n",
      "-----------------------------------------------------\n",
      "Total Months: 86\n",
      "Total: $38382578\n",
      "Average Change: $ -2315.12\n",
      "Greatest Increase in Profits: Feb-2012 ($1926159)\n",
      "Greatest Decrease in Profits: Sep-2013 ($-2196167)\n"
     ]
    }
   ],
   "source": [
    "# Import Python Dependencies\n",
    "import os, csv\n",
    "from pathlib import Path \n",
    "\n",
    "# Declare the file location \n",
    "input_file = Path(\"budget_data.csv\")\n",
    "\n",
    "# Create necessary empty lists\n",
    "months = []\n",
    "profit = []\n",
    "profit_change = []\n",
    " \n",
    "# Open the csv\n",
    "with open(input_file, newline=\"\", encoding=\"utf-8\") as budget:\n",
    "    csvreader = csv.reader(budget,delimiter=\",\") \n",
    "    header = next(csvreader)  \n",
    "\n",
    "    # Iterate through the rows \n",
    "    for row in csvreader:\n",
    "        months.append(row[0])\n",
    "        profit.append(int(row[1]))\n",
    "\n",
    "    # Iterate through the profits to get the profit change\n",
    "    for i in range(len(profit)-1):\n",
    "        profit_change.append(profit[i+1]-profit[i])\n",
    "        \n",
    "# Obtain the max and min of profit change\n",
    "increase_value = max(profit_change)\n",
    "decrease_value = min(profit_change)\n",
    "\n",
    "# Get the increase and decrease in month profit change to calculate increase or decrease monthly\n",
    "increase_month = profit_change.index(max(profit_change)) + 1\n",
    "decrease_month = profit_change.index(min(profit_change)) + 1 \n",
    "\n",
    "# Print the financial analysis\n",
    "\n",
    "print(\"Financial Analysis\")\n",
    "print(\"-----------------------------------------------------\")\n",
    "print(f\"Total Months: {len(months)}\")\n",
    "print(f\"Total: ${sum(profit)}\")\n",
    "print(f\"Average Change: $ {round(sum(profit_change)/len(profit_change),2)}\")\n",
    "print(f\"Greatest Increase in Profits: {months[increase_month]} (${(str(increase_value))})\")\n",
    "print(f\"Greatest Decrease in Profits: {months[decrease_month]} (${(str(decrease_value))})\")\n",
    "\n",
    "# Output files\n",
    "output_file = Path(\"Financial_Analysis.txt\")\n",
    "\n",
    "with open(output_file,\"w\") as file:\n",
    "    \n",
    "# Export at txt file\n",
    "    file.write(\"Financial Analysis\")\n",
    "    file.write(\"--------------------------------------------\")\n",
    "    file.write(f\"Total Months: {len(months)}\")\n",
    "    file.write(f\"Total: ${sum(profit)}\")\n",
    "    file.write(f\"Average Change: $ {round(sum(profit_change)/len(profit_change),2)}\")\n",
    "    file.write(f\"Greatest Increase in Profits: {months[increase_month]} (${(str(increase_value))})\")\n",
    "    file.write(f\"Greatest Decrease in Profits: {months[decrease_month]} (${(str(decrease_value))})\")"
   ]
  }
 ],
 "metadata": {
  "kernelspec": {
   "display_name": "Python 3 (ipykernel)",
   "language": "python",
   "name": "python3"
  },
  "language_info": {
   "codemirror_mode": {
    "name": "ipython",
    "version": 3
   },
   "file_extension": ".py",
   "mimetype": "text/x-python",
   "name": "python",
   "nbconvert_exporter": "python",
   "pygments_lexer": "ipython3",
   "version": "3.11.5"
  }
 },
 "nbformat": 4,
 "nbformat_minor": 4
}
